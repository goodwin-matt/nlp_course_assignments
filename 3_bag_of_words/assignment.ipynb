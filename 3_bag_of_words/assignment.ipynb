{
 "cells": [
  {
   "cell_type": "code",
   "execution_count": null,
   "id": "initial_id",
   "metadata": {
    "collapsed": true
   },
   "outputs": [],
   "source": [
    "\"\"\"\n",
    "WEEK 3\n",
    "\n",
    "This assignment has three parts:\n",
    "\n",
    "1. Use this notebook to read in the training data, do some initial EDA, and build a BOW model.\n",
    "Feel free to use any supervised learning models.\n",
    "\n",
    "2. Include a short paragraph or so discussing interesting findings from your model. What did it do well on? What did it not do well on? Why is this the case? This is the \"explainability\" part of a model.\n",
    "\n",
    "3. Apply the chosen model to the judge data set. This is the \"predictive\" part of a model.\n",
    "Format for saving:\n",
    "- Save as a csv file with two columns: 'id' and 'prediction'.\n",
    "- Call the file \"{your_first_name}_{your_last_name}_week_3_submission.csv\"\n",
    "\n",
    "Send me the submission file via email when done.\n",
    "\"\"\""
   ]
  }
 ],
 "metadata": {
  "kernelspec": {
   "display_name": "Python 3",
   "language": "python",
   "name": "python3"
  },
  "language_info": {
   "codemirror_mode": {
    "name": "ipython",
    "version": 2
   },
   "file_extension": ".py",
   "mimetype": "text/x-python",
   "name": "python",
   "nbconvert_exporter": "python",
   "pygments_lexer": "ipython2",
   "version": "2.7.6"
  }
 },
 "nbformat": 4,
 "nbformat_minor": 5
}
