{
 "cells": [
  {
   "cell_type": "code",
   "execution_count": 2,
   "id": "58879c82-b44a-4878-bc77-9647f6d235d7",
   "metadata": {},
   "outputs": [],
   "source": "from src import doc_analyzer, token_analyzer, remove_stop_words, lemmatizer"
  }
 ],
 "metadata": {
  "kernelspec": {
   "display_name": "Python 3 (ipykernel)",
   "language": "python",
   "name": "python3"
  },
  "language_info": {
   "codemirror_mode": {
    "name": "ipython",
    "version": 3
   },
   "file_extension": ".py",
   "mimetype": "text/x-python",
   "name": "python",
   "nbconvert_exporter": "python",
   "pygments_lexer": "ipython3",
   "version": "3.12.9"
  }
 },
 "nbformat": 4,
 "nbformat_minor": 5
}
